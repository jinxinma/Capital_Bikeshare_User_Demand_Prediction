{
 "cells": [
  {
   "cell_type": "markdown",
   "metadata": {},
   "source": [
    "# Capital Bikeshare User Demand Prediction\n",
    "\n",
    "#### Jinxin Ma 09.26.2017\n",
    "\n",
    "This Jupyter notebook presents an end-to-end machine learning project. The goal is to predict user demand of bikes. The structure of the notebook is as follows:\n",
    "\n",
    "1. Exploratory Data Analysis\n",
    "\n",
    "        1.1 Read and Split Data\n",
    "        1.2 Missing Value Exploration\n",
    "        1.3 Summary Statistics and Outlier Detection\n",
    "        1.4 Correlation Analysis\n",
    "2. Feature Engineering and Modeling\n",
    "\n",
    "        2.1 Data Preprocessing\n",
    "        2.2 Baseline Models\n",
    "        2.3 Feature Engineering\n",
    "        2.4 Improved Models\n",
    "        2.5 Feature Importance Analysis\n",
    "        2.6 Final Models and Predictions\n",
    "\n",
    "3. Summary"
   ]
  },
  {
   "cell_type": "code",
   "execution_count": 1,
   "metadata": {},
   "outputs": [
    {
     "name": "stderr",
     "output_type": "stream",
     "text": [
      "/Users/jinxin/anaconda2/lib/python2.7/site-packages/sklearn/cross_validation.py:41: DeprecationWarning: This module was deprecated in version 0.18 in favor of the model_selection module into which all the refactored classes and functions are moved. Also note that the interface of the new CV iterators are different from that of this module. This module will be removed in 0.20.\n",
      "  \"This module will be removed in 0.20.\", DeprecationWarning)\n"
     ]
    }
   ],
   "source": [
    "import matplotlib.pyplot as plt\n",
    "import seaborn as sns\n",
    "import pandas as pd\n",
    "import numpy as np\n",
    "\n",
    "from sklearn.model_selection import StratifiedShuffleSplit, cross_val_score\n",
    "from sklearn.preprocessing import Imputer\n",
    "\n",
    "from sklearn.linear_model import LinearRegression\n",
    "from sklearn.ensemble import RandomForestRegressor, ExtraTreesRegressor, GradientBoostingRegressor\n",
    "from xgboost import XGBRegressor, plot_importance\n",
    "from sklearn.model_selection import GridSearchCV\n",
    "from sklearn.metrics import mean_squared_error\n",
    "from sklearn.externals import joblib\n",
    "\n",
    "# pipeline and user-defined class\n",
    "from sklearn.base import BaseEstimator, TransformerMixin\n",
    "\n",
    "# display plots in notebook\n",
    "%matplotlib inline\n",
    "sns.set(style=\"whitegrid\", color_codes=True)\n",
    "\n",
    "params = {'legend.fontsize': 'x-large',\n",
    "          'figure.figsize': (12, 10),\n",
    "         'axes.labelsize': 18,\n",
    "         'axes.titlesize': 16,\n",
    "         'xtick.labelsize': 16,\n",
    "         'ytick.labelsize': 16}\n",
    "plt.rcParams.update(params)"
   ]
  },
  {
   "cell_type": "markdown",
   "metadata": {},
   "source": [
    "## 1. Exploratory Data Analysis"
   ]
  },
  {
   "cell_type": "markdown",
   "metadata": {},
   "source": [
    "### 1.1 Read and Split Data"
   ]
  },
  {
   "cell_type": "code",
   "execution_count": 2,
   "metadata": {
    "collapsed": true
   },
   "outputs": [],
   "source": [
    "data = pd.read_csv('hourly_users_data.csv')\n",
    "\n",
    "# \"dteday\" is like timestamp, can drop it for now\n",
    "data = data.drop(['dteday'], axis=1)"
   ]
  },
  {
   "cell_type": "markdown",
   "metadata": {},
   "source": [
    "We want to make sure the distribution of the test data is the same to the training data. StratifiedShuffleSplit in Scikit learn can help us achieve that. Here I choose to split based on \"mnth\"."
   ]
  },
  {
   "cell_type": "code",
   "execution_count": 3,
   "metadata": {
    "collapsed": true
   },
   "outputs": [],
   "source": [
    "split = StratifiedShuffleSplit(n_splits = 1, test_size = 0.2, random_state = 42) \n",
    "\n",
    "for train_index, test_index in split.split(data, data['mnth']): \n",
    "    X_train = data.loc[train_index] \n",
    "    X_test = data.loc[test_index]\n",
    "\n",
    "# we have both categorical and numerical features\n",
    "cat_features = ['season', 'yr', 'mnth', 'hr', 'holiday', 'weekday', 'workingday', 'weathersit']\n",
    "num_features = ['temp', 'atemp', 'hum', 'congeniality', 'windspeed', 'wobbliness']\n",
    "response = ['cnt', 'casual', 'registered']"
   ]
  },
  {
   "cell_type": "markdown",
   "metadata": {},
   "source": [
    "### 1.2 Missing Data Exploration\n",
    "\n",
    "Let's first check if there are missing values in the data set. There are six features have missing value including \"congeniality\", \"temp\", and \"hum\". We need to impute the missing value later on."
   ]
  },
  {
   "cell_type": "code",
   "execution_count": 4,
   "metadata": {},
   "outputs": [
    {
     "data": {
      "text/html": [
       "<div>\n",
       "<style>\n",
       "    .dataframe thead tr:only-child th {\n",
       "        text-align: right;\n",
       "    }\n",
       "\n",
       "    .dataframe thead th {\n",
       "        text-align: left;\n",
       "    }\n",
       "\n",
       "    .dataframe tbody tr th {\n",
       "        vertical-align: top;\n",
       "    }\n",
       "</style>\n",
       "<table border=\"1\" class=\"dataframe\">\n",
       "  <thead>\n",
       "    <tr style=\"text-align: right;\">\n",
       "      <th></th>\n",
       "      <th>Feature Name</th>\n",
       "      <th>Count</th>\n",
       "      <th>Percentage</th>\n",
       "    </tr>\n",
       "  </thead>\n",
       "  <tbody>\n",
       "    <tr>\n",
       "      <th>12</th>\n",
       "      <td>congeniality</td>\n",
       "      <td>239</td>\n",
       "      <td>2.157040</td>\n",
       "    </tr>\n",
       "    <tr>\n",
       "      <th>9</th>\n",
       "      <td>temp</td>\n",
       "      <td>230</td>\n",
       "      <td>2.075812</td>\n",
       "    </tr>\n",
       "    <tr>\n",
       "      <th>11</th>\n",
       "      <td>hum</td>\n",
       "      <td>230</td>\n",
       "      <td>2.075812</td>\n",
       "    </tr>\n",
       "    <tr>\n",
       "      <th>7</th>\n",
       "      <td>weathersit</td>\n",
       "      <td>214</td>\n",
       "      <td>1.931408</td>\n",
       "    </tr>\n",
       "    <tr>\n",
       "      <th>13</th>\n",
       "      <td>windspeed</td>\n",
       "      <td>196</td>\n",
       "      <td>1.768953</td>\n",
       "    </tr>\n",
       "    <tr>\n",
       "      <th>8</th>\n",
       "      <td>wobbliness</td>\n",
       "      <td>6</td>\n",
       "      <td>0.054152</td>\n",
       "    </tr>\n",
       "    <tr>\n",
       "      <th>15</th>\n",
       "      <td>registered</td>\n",
       "      <td>0</td>\n",
       "      <td>0.000000</td>\n",
       "    </tr>\n",
       "    <tr>\n",
       "      <th>14</th>\n",
       "      <td>casual</td>\n",
       "      <td>0</td>\n",
       "      <td>0.000000</td>\n",
       "    </tr>\n",
       "    <tr>\n",
       "      <th>10</th>\n",
       "      <td>atemp</td>\n",
       "      <td>0</td>\n",
       "      <td>0.000000</td>\n",
       "    </tr>\n",
       "    <tr>\n",
       "      <th>0</th>\n",
       "      <td>season</td>\n",
       "      <td>0</td>\n",
       "      <td>0.000000</td>\n",
       "    </tr>\n",
       "    <tr>\n",
       "      <th>1</th>\n",
       "      <td>yr</td>\n",
       "      <td>0</td>\n",
       "      <td>0.000000</td>\n",
       "    </tr>\n",
       "    <tr>\n",
       "      <th>6</th>\n",
       "      <td>workingday</td>\n",
       "      <td>0</td>\n",
       "      <td>0.000000</td>\n",
       "    </tr>\n",
       "    <tr>\n",
       "      <th>5</th>\n",
       "      <td>weekday</td>\n",
       "      <td>0</td>\n",
       "      <td>0.000000</td>\n",
       "    </tr>\n",
       "    <tr>\n",
       "      <th>4</th>\n",
       "      <td>holiday</td>\n",
       "      <td>0</td>\n",
       "      <td>0.000000</td>\n",
       "    </tr>\n",
       "    <tr>\n",
       "      <th>3</th>\n",
       "      <td>hr</td>\n",
       "      <td>0</td>\n",
       "      <td>0.000000</td>\n",
       "    </tr>\n",
       "    <tr>\n",
       "      <th>2</th>\n",
       "      <td>mnth</td>\n",
       "      <td>0</td>\n",
       "      <td>0.000000</td>\n",
       "    </tr>\n",
       "    <tr>\n",
       "      <th>16</th>\n",
       "      <td>cnt</td>\n",
       "      <td>0</td>\n",
       "      <td>0.000000</td>\n",
       "    </tr>\n",
       "  </tbody>\n",
       "</table>\n",
       "</div>"
      ],
      "text/plain": [
       "    Feature Name  Count  Percentage\n",
       "12  congeniality    239    2.157040\n",
       "9           temp    230    2.075812\n",
       "11           hum    230    2.075812\n",
       "7     weathersit    214    1.931408\n",
       "13     windspeed    196    1.768953\n",
       "8     wobbliness      6    0.054152\n",
       "15    registered      0    0.000000\n",
       "14        casual      0    0.000000\n",
       "10         atemp      0    0.000000\n",
       "0         season      0    0.000000\n",
       "1             yr      0    0.000000\n",
       "6     workingday      0    0.000000\n",
       "5        weekday      0    0.000000\n",
       "4        holiday      0    0.000000\n",
       "3             hr      0    0.000000\n",
       "2           mnth      0    0.000000\n",
       "16           cnt      0    0.000000"
      ]
     },
     "execution_count": 4,
     "metadata": {},
     "output_type": "execute_result"
    }
   ],
   "source": [
    "# check if there are missing values\n",
    "def get_missing_info(df):\n",
    "    \"\"\"\n",
    "    df: pandas dataframe\n",
    "\n",
    "    return: dataframe of count and percentage of missing value for \n",
    "            each column in the input dataframe\n",
    "    \"\"\"\n",
    "    missing_ct = pd.DataFrame(df.isnull().sum()).reset_index().rename(columns={'index':'Feature Name', 0:'Count'})\n",
    "    missing_ct['Percentage'] = (missing_ct['Count'] / len(df)) * 100\n",
    "    return missing_ct.sort_values('Count', ascending=False)\n",
    "\n",
    "# missing value info of features\n",
    "get_missing_info(X_train)"
   ]
  },
  {
   "cell_type": "markdown",
   "metadata": {},
   "source": [
    "As can be seen from the table below, the response variables don't have any missing values."
   ]
  },
  {
   "cell_type": "code",
   "execution_count": 5,
   "metadata": {},
   "outputs": [
    {
     "data": {
      "text/html": [
       "<div>\n",
       "<style>\n",
       "    .dataframe thead tr:only-child th {\n",
       "        text-align: right;\n",
       "    }\n",
       "\n",
       "    .dataframe thead th {\n",
       "        text-align: left;\n",
       "    }\n",
       "\n",
       "    .dataframe tbody tr th {\n",
       "        vertical-align: top;\n",
       "    }\n",
       "</style>\n",
       "<table border=\"1\" class=\"dataframe\">\n",
       "  <thead>\n",
       "    <tr style=\"text-align: right;\">\n",
       "      <th></th>\n",
       "      <th>Feature Name</th>\n",
       "      <th>Count</th>\n",
       "      <th>Percentage</th>\n",
       "    </tr>\n",
       "  </thead>\n",
       "  <tbody>\n",
       "    <tr>\n",
       "      <th>0</th>\n",
       "      <td>cnt</td>\n",
       "      <td>0</td>\n",
       "      <td>0.0</td>\n",
       "    </tr>\n",
       "    <tr>\n",
       "      <th>1</th>\n",
       "      <td>casual</td>\n",
       "      <td>0</td>\n",
       "      <td>0.0</td>\n",
       "    </tr>\n",
       "    <tr>\n",
       "      <th>2</th>\n",
       "      <td>registered</td>\n",
       "      <td>0</td>\n",
       "      <td>0.0</td>\n",
       "    </tr>\n",
       "  </tbody>\n",
       "</table>\n",
       "</div>"
      ],
      "text/plain": [
       "  Feature Name  Count  Percentage\n",
       "0          cnt      0         0.0\n",
       "1       casual      0         0.0\n",
       "2   registered      0         0.0"
      ]
     },
     "execution_count": 5,
     "metadata": {},
     "output_type": "execute_result"
    }
   ],
   "source": [
    "# missing value info of response variables\n",
    "get_missing_info(X_train[response])"
   ]
  },
  {
   "cell_type": "markdown",
   "metadata": {},
   "source": [
    "### 1.3 Summary Statistics and Outlier Detection\n",
    "\n",
    "#### 1.31 Numerical Features\n",
    "\n",
    "By looking at the summary statistics of numerical features, we don't see anomaly. \"temp\", \"atemp\", \"hum\", and \"windespeed\" are all normalized. We need to normalize \"congeniality\" and \"wobbliness\" if they are useful."
   ]
  },
  {
   "cell_type": "code",
   "execution_count": 6,
   "metadata": {
    "scrolled": false
   },
   "outputs": [
    {
     "data": {
      "text/html": [
       "<div>\n",
       "<style>\n",
       "    .dataframe thead tr:only-child th {\n",
       "        text-align: right;\n",
       "    }\n",
       "\n",
       "    .dataframe thead th {\n",
       "        text-align: left;\n",
       "    }\n",
       "\n",
       "    .dataframe tbody tr th {\n",
       "        vertical-align: top;\n",
       "    }\n",
       "</style>\n",
       "<table border=\"1\" class=\"dataframe\">\n",
       "  <thead>\n",
       "    <tr style=\"text-align: right;\">\n",
       "      <th></th>\n",
       "      <th>temp</th>\n",
       "      <th>atemp</th>\n",
       "      <th>hum</th>\n",
       "      <th>congeniality</th>\n",
       "      <th>windspeed</th>\n",
       "      <th>wobbliness</th>\n",
       "    </tr>\n",
       "  </thead>\n",
       "  <tbody>\n",
       "    <tr>\n",
       "      <th>count</th>\n",
       "      <td>10850.000000</td>\n",
       "      <td>11080.000000</td>\n",
       "      <td>10850.000000</td>\n",
       "      <td>10841.000000</td>\n",
       "      <td>10884.000000</td>\n",
       "      <td>11074.000000</td>\n",
       "    </tr>\n",
       "    <tr>\n",
       "      <th>mean</th>\n",
       "      <td>0.498350</td>\n",
       "      <td>0.476419</td>\n",
       "      <td>0.626687</td>\n",
       "      <td>2.271673</td>\n",
       "      <td>0.190130</td>\n",
       "      <td>49.637736</td>\n",
       "    </tr>\n",
       "    <tr>\n",
       "      <th>std</th>\n",
       "      <td>0.192666</td>\n",
       "      <td>0.172166</td>\n",
       "      <td>0.193237</td>\n",
       "      <td>0.541050</td>\n",
       "      <td>0.121195</td>\n",
       "      <td>28.816112</td>\n",
       "    </tr>\n",
       "    <tr>\n",
       "      <th>min</th>\n",
       "      <td>0.020000</td>\n",
       "      <td>0.000000</td>\n",
       "      <td>0.000000</td>\n",
       "      <td>0.671500</td>\n",
       "      <td>0.000000</td>\n",
       "      <td>0.002696</td>\n",
       "    </tr>\n",
       "    <tr>\n",
       "      <th>25%</th>\n",
       "      <td>0.340000</td>\n",
       "      <td>0.333300</td>\n",
       "      <td>0.470000</td>\n",
       "      <td>1.849700</td>\n",
       "      <td>0.104500</td>\n",
       "      <td>24.770329</td>\n",
       "    </tr>\n",
       "    <tr>\n",
       "      <th>50%</th>\n",
       "      <td>0.500000</td>\n",
       "      <td>0.484800</td>\n",
       "      <td>0.630000</td>\n",
       "      <td>2.349700</td>\n",
       "      <td>0.194000</td>\n",
       "      <td>49.159982</td>\n",
       "    </tr>\n",
       "    <tr>\n",
       "      <th>75%</th>\n",
       "      <td>0.660000</td>\n",
       "      <td>0.621200</td>\n",
       "      <td>0.780000</td>\n",
       "      <td>2.712100</td>\n",
       "      <td>0.253700</td>\n",
       "      <td>74.557151</td>\n",
       "    </tr>\n",
       "    <tr>\n",
       "      <th>max</th>\n",
       "      <td>1.000000</td>\n",
       "      <td>1.000000</td>\n",
       "      <td>1.000000</td>\n",
       "      <td>3.397600</td>\n",
       "      <td>0.850700</td>\n",
       "      <td>99.995710</td>\n",
       "    </tr>\n",
       "  </tbody>\n",
       "</table>\n",
       "</div>"
      ],
      "text/plain": [
       "               temp         atemp           hum  congeniality     windspeed  \\\n",
       "count  10850.000000  11080.000000  10850.000000  10841.000000  10884.000000   \n",
       "mean       0.498350      0.476419      0.626687      2.271673      0.190130   \n",
       "std        0.192666      0.172166      0.193237      0.541050      0.121195   \n",
       "min        0.020000      0.000000      0.000000      0.671500      0.000000   \n",
       "25%        0.340000      0.333300      0.470000      1.849700      0.104500   \n",
       "50%        0.500000      0.484800      0.630000      2.349700      0.194000   \n",
       "75%        0.660000      0.621200      0.780000      2.712100      0.253700   \n",
       "max        1.000000      1.000000      1.000000      3.397600      0.850700   \n",
       "\n",
       "         wobbliness  \n",
       "count  11074.000000  \n",
       "mean      49.637736  \n",
       "std       28.816112  \n",
       "min        0.002696  \n",
       "25%       24.770329  \n",
       "50%       49.159982  \n",
       "75%       74.557151  \n",
       "max       99.995710  "
      ]
     },
     "execution_count": 6,
     "metadata": {},
     "output_type": "execute_result"
    }
   ],
   "source": [
    "# Summary statistics of numerical features\n",
    "X_train[num_features].describe()"
   ]
  },
  {
   "cell_type": "markdown",
   "metadata": {},
   "source": [
    "The distribution of numeical features also look that there aren't outliers. The distribution of \"windspeed\" is a bit right skewed. But that's probably what the reality is like: there is often less windy days in D.C."
   ]
  },
  {
   "cell_type": "code",
   "execution_count": 7,
   "metadata": {},
   "outputs": [
    {
     "data": {
      "image/png": "[encoded data removed]",
      "text/plain": [
       "<matplotlib.figure.Figure at 0x107c61ad0>"
      ]
     },
     "metadata": {},
     "output_type": "display_data"
    }
   ],
   "source": [
    "# the histogram indicates dteday, wobbliness, and congeniality are not normalized\n",
    "X_train[num_features].hist();"
   ]
  },
  {
   "cell_type": "markdown",
   "metadata": {},
   "source": [
    "#### 1.32 Categorical Features\n",
    "\n",
    "The categorical features also look like that they are \"normal\"."
   ]
  },
  {
   "cell_type": "code",
   "execution_count": 8,
   "metadata": {},
   "outputs": [
    {
     "data": {
      "text/html": [
       "<div>\n",
       "<style>\n",
       "    .dataframe thead tr:only-child th {\n",
       "        text-align: right;\n",
       "    }\n",
       "\n",
       "    .dataframe thead th {\n",
       "        text-align: left;\n",
       "    }\n",
       "\n",
       "    .dataframe tbody tr th {\n",
       "        vertical-align: top;\n",
       "    }\n",
       "</style>\n",
       "<table border=\"1\" class=\"dataframe\">\n",
       "  <thead>\n",
       "    <tr style=\"text-align: right;\">\n",
       "      <th></th>\n",
       "      <th>season</th>\n",
       "      <th>yr</th>\n",
       "      <th>mnth</th>\n",
       "      <th>hr</th>\n",
       "      <th>holiday</th>\n",
       "      <th>weekday</th>\n",
       "      <th>workingday</th>\n",
       "      <th>weathersit</th>\n",
       "    </tr>\n",
       "  </thead>\n",
       "  <tbody>\n",
       "    <tr>\n",
       "      <th>count</th>\n",
       "      <td>11080.000000</td>\n",
       "      <td>11080.000000</td>\n",
       "      <td>11080.000000</td>\n",
       "      <td>11080.000000</td>\n",
       "      <td>11080.000000</td>\n",
       "      <td>11080.000000</td>\n",
       "      <td>11080.000000</td>\n",
       "      <td>10866.000000</td>\n",
       "    </tr>\n",
       "    <tr>\n",
       "      <th>mean</th>\n",
       "      <td>2.497112</td>\n",
       "      <td>0.499097</td>\n",
       "      <td>6.522202</td>\n",
       "      <td>11.565253</td>\n",
       "      <td>0.029693</td>\n",
       "      <td>2.978791</td>\n",
       "      <td>0.682401</td>\n",
       "      <td>1.424443</td>\n",
       "    </tr>\n",
       "    <tr>\n",
       "      <th>std</th>\n",
       "      <td>1.106313</td>\n",
       "      <td>0.500022</td>\n",
       "      <td>3.432725</td>\n",
       "      <td>6.932259</td>\n",
       "      <td>0.169747</td>\n",
       "      <td>2.006354</td>\n",
       "      <td>0.465564</td>\n",
       "      <td>0.641161</td>\n",
       "    </tr>\n",
       "    <tr>\n",
       "      <th>min</th>\n",
       "      <td>1.000000</td>\n",
       "      <td>0.000000</td>\n",
       "      <td>1.000000</td>\n",
       "      <td>0.000000</td>\n",
       "      <td>0.000000</td>\n",
       "      <td>0.000000</td>\n",
       "      <td>0.000000</td>\n",
       "      <td>1.000000</td>\n",
       "    </tr>\n",
       "    <tr>\n",
       "      <th>25%</th>\n",
       "      <td>2.000000</td>\n",
       "      <td>0.000000</td>\n",
       "      <td>4.000000</td>\n",
       "      <td>6.000000</td>\n",
       "      <td>0.000000</td>\n",
       "      <td>1.000000</td>\n",
       "      <td>0.000000</td>\n",
       "      <td>1.000000</td>\n",
       "    </tr>\n",
       "    <tr>\n",
       "      <th>50%</th>\n",
       "      <td>3.000000</td>\n",
       "      <td>0.000000</td>\n",
       "      <td>7.000000</td>\n",
       "      <td>12.000000</td>\n",
       "      <td>0.000000</td>\n",
       "      <td>3.000000</td>\n",
       "      <td>1.000000</td>\n",
       "      <td>1.000000</td>\n",
       "    </tr>\n",
       "    <tr>\n",
       "      <th>75%</th>\n",
       "      <td>3.000000</td>\n",
       "      <td>1.000000</td>\n",
       "      <td>9.000000</td>\n",
       "      <td>18.000000</td>\n",
       "      <td>0.000000</td>\n",
       "      <td>5.000000</td>\n",
       "      <td>1.000000</td>\n",
       "      <td>2.000000</td>\n",
       "    </tr>\n",
       "    <tr>\n",
       "      <th>max</th>\n",
       "      <td>4.000000</td>\n",
       "      <td>1.000000</td>\n",
       "      <td>12.000000</td>\n",
       "      <td>23.000000</td>\n",
       "      <td>1.000000</td>\n",
       "      <td>6.000000</td>\n",
       "      <td>1.000000</td>\n",
       "      <td>4.000000</td>\n",
       "    </tr>\n",
       "  </tbody>\n",
       "</table>\n",
       "</div>"
      ],
      "text/plain": [
       "             season            yr          mnth            hr       holiday  \\\n",
       "count  11080.000000  11080.000000  11080.000000  11080.000000  11080.000000   \n",
       "mean       2.497112      0.499097      6.522202     11.565253      0.029693   \n",
       "std        1.106313      0.500022      3.432725      6.932259      0.169747   \n",
       "min        1.000000      0.000000      1.000000      0.000000      0.000000   \n",
       "25%        2.000000      0.000000      4.000000      6.000000      0.000000   \n",
       "50%        3.000000      0.000000      7.000000     12.000000      0.000000   \n",
       "75%        3.000000      1.000000      9.000000     18.000000      0.000000   \n",
       "max        4.000000      1.000000     12.000000     23.000000      1.000000   \n",
       "\n",
       "            weekday    workingday    weathersit  \n",
       "count  11080.000000  11080.000000  10866.000000  \n",
       "mean       2.978791      0.682401      1.424443  \n",
       "std        2.006354      0.465564      0.641161  \n",
       "min        0.000000      0.000000      1.000000  \n",
       "25%        1.000000      0.000000      1.000000  \n",
       "50%        3.000000      1.000000      1.000000  \n",
       "75%        5.000000      1.000000      2.000000  \n",
       "max        6.000000      1.000000      4.000000  "
      ]
     },
     "execution_count": 8,
     "metadata": {},
     "output_type": "execute_result"
    }
   ],
   "source": [
    "# Summary statistics of categorical features\n",
    "X_train[cat_features].describe()"
   ]
  },
  {
   "cell_type": "markdown",
   "metadata": {},
   "source": [
    "#### 1.33 Response Variable\n",
    "\n",
    "However, there seems to be outliers in the response variable. Using the 1.5 * IQR rule we see there are clearly hundreds of outliers in each of the candidate response variables."
   ]
  },
  {
   "cell_type": "code",
   "execution_count": 9,
   "metadata": {
    "scrolled": false
   },
   "outputs": [
    {
     "data": {
      "text/html": [
       "<div>\n",
       "<style>\n",
       "    .dataframe thead tr:only-child th {\n",
       "        text-align: right;\n",
       "    }\n",
       "\n",
       "    .dataframe thead th {\n",
       "        text-align: left;\n",
       "    }\n",
       "\n",
       "    .dataframe tbody tr th {\n",
       "        vertical-align: top;\n",
       "    }\n",
       "</style>\n",
       "<table border=\"1\" class=\"dataframe\">\n",
       "  <thead>\n",
       "    <tr style=\"text-align: right;\">\n",
       "      <th></th>\n",
       "      <th>cnt</th>\n",
       "      <th>casual</th>\n",
       "      <th>registered</th>\n",
       "    </tr>\n",
       "  </thead>\n",
       "  <tbody>\n",
       "    <tr>\n",
       "      <th>count</th>\n",
       "      <td>11080.000000</td>\n",
       "      <td>11080.000000</td>\n",
       "      <td>11080.000000</td>\n",
       "    </tr>\n",
       "    <tr>\n",
       "      <th>mean</th>\n",
       "      <td>190.217599</td>\n",
       "      <td>35.794946</td>\n",
       "      <td>154.422653</td>\n",
       "    </tr>\n",
       "    <tr>\n",
       "      <th>std</th>\n",
       "      <td>182.583990</td>\n",
       "      <td>49.211941</td>\n",
       "      <td>152.823340</td>\n",
       "    </tr>\n",
       "    <tr>\n",
       "      <th>min</th>\n",
       "      <td>1.000000</td>\n",
       "      <td>0.000000</td>\n",
       "      <td>0.000000</td>\n",
       "    </tr>\n",
       "    <tr>\n",
       "      <th>25%</th>\n",
       "      <td>39.000000</td>\n",
       "      <td>4.000000</td>\n",
       "      <td>34.000000</td>\n",
       "    </tr>\n",
       "    <tr>\n",
       "      <th>50%</th>\n",
       "      <td>142.000000</td>\n",
       "      <td>17.000000</td>\n",
       "      <td>115.000000</td>\n",
       "    </tr>\n",
       "    <tr>\n",
       "      <th>75%</th>\n",
       "      <td>282.250000</td>\n",
       "      <td>49.000000</td>\n",
       "      <td>221.000000</td>\n",
       "    </tr>\n",
       "    <tr>\n",
       "      <th>max</th>\n",
       "      <td>976.000000</td>\n",
       "      <td>367.000000</td>\n",
       "      <td>885.000000</td>\n",
       "    </tr>\n",
       "  </tbody>\n",
       "</table>\n",
       "</div>"
      ],
      "text/plain": [
       "                cnt        casual    registered\n",
       "count  11080.000000  11080.000000  11080.000000\n",
       "mean     190.217599     35.794946    154.422653\n",
       "std      182.583990     49.211941    152.823340\n",
       "min        1.000000      0.000000      0.000000\n",
       "25%       39.000000      4.000000     34.000000\n",
       "50%      142.000000     17.000000    115.000000\n",
       "75%      282.250000     49.000000    221.000000\n",
       "max      976.000000    367.000000    885.000000"
      ]
     },
     "execution_count": 9,
     "metadata": {},
     "output_type": "execute_result"
    }
   ],
   "source": [
    "# Summary statistics of response variable\n",
    "X_train[response].describe()"
   ]
  },
  {
   "cell_type": "code",
   "execution_count": 10,
   "metadata": {},
   "outputs": [
    {
     "name": "stdout",
     "output_type": "stream",
     "text": [
      "Number of sample of response variable: 11080\n",
      "Number of outliers in cnt: 322\n",
      "Number of outliers in casual: 749\n",
      "Number of outliers in registered: 443\n"
     ]
    }
   ],
   "source": [
    "def is_outlier(value, p25, p75):\n",
    "    \"\"\"\n",
    "    Check if value is an outlier\n",
    "    \"\"\"\n",
    "    lower = p25 - 1.5 * (p75 - p25)\n",
    "    upper = p75 + 1.5 * (p75 - p25)\n",
    "    return value <= lower or value >= upper\n",
    "\n",
    "def get_indices_of_outliers(values):\n",
    "    \"\"\"\n",
    "    Get outlier indices (if any)\n",
    "    \"\"\"\n",
    "    p25 = np.percentile(values, 25)\n",
    "    p75 = np.percentile(values, 75)\n",
    "     \n",
    "    indices_of_outliers = []\n",
    "    for ind, value in enumerate(values):\n",
    "        if is_outlier(value, p25, p75):\n",
    "            indices_of_outliers.append(ind)\n",
    "    return indices_of_outliers\n",
    "\n",
    "print \"Number of sample of response variable: \" + str(len(X_train[response[0]]))\n",
    "\n",
    "for item in response:\n",
    "    indices_cnt_outlier = get_indices_of_outliers(X_train[item])\n",
    "    print \"Number of outliers in \" + str(item) + \": \" + str(len(indices_cnt_outlier))"
   ]
  },
  {
   "cell_type": "markdown",
   "metadata": {},
   "source": [
    "So far we have used univariate analysis for outlier detection, next let's use bivariate analysis to further confirm the existence of outliers."
   ]
  },
  {
   "cell_type": "code",
   "execution_count": 11,
   "metadata": {
    "collapsed": true
   },
   "outputs": [],
   "source": [
    "def cat_boxplot(df, col, group):\n",
    "    \"\"\"\n",
    "    df: pandas dataframe\n",
    "    col: column name\n",
    "\n",
    "    this function draws a box plot of bikeshare count\n",
    "    grouped by attributes in col\n",
    "    \"\"\"\n",
    "    sns.set(style='whitegrid', font_scale=1.4)\n",
    "    f, ax = plt.subplots(figsize=(10, 8))\n",
    "    sns.boxplot(x=group, y=col, data=df) \n",
    "    ax.set_title('Boxplot Grouped by ' + group)\n",
    "    ax.set_xticklabels(ax.get_xticklabels(), rotation=45)"
   ]
  },
  {
   "cell_type": "markdown",
   "metadata": {},
   "source": [
    "In the boxplot below, when we look at the distribution of \"registered\" user count across 24 hours. There are outliers in the hours of early morning and afternoon. Additionally, we see that during rush hours (7-9AM and 16-19PM), there are more people riding bikes."
   ]
  },
  {
   "cell_type": "code",
   "execution_count": 12,
   "metadata": {
    "scrolled": true
   },
   "outputs": [
    {
     "data": {
      "image/png": "[encoded data removed]",
      "text/plain": [
       "<matplotlib.figure.Figure at 0x112f73ed0>"
      ]
     },
     "metadata": {},
     "output_type": "display_data"
    }
   ],
   "source": [
    "cat_boxplot(X_train, response[2], 'hr')"
   ]
  },
  {
   "cell_type": "markdown",
   "metadata": {},
   "source": [
    "When we look at the distribution of \"casual\" vs \"hour\", we don't see as clear a trend as that of the \"registered\". This probabaly indicates that we should build separate for \"casual\" and \"registered\"."
   ]
  },
  {
   "cell_type": "code",
   "execution_count": 13,
   "metadata": {},
   "outputs": [
    {
     "data": {
      "image/png": "[encoded data removed]",
      "text/plain": [
       "<matplotlib.figure.Figure at 0x11769cdd0>"
      ]
     },
     "metadata": {},
     "output_type": "display_data"
    }
   ],
   "source": [
    "cat_boxplot(X_train, response[1], 'hr')"
   ]
  },
  {
   "cell_type": "markdown",
   "metadata": {},
   "source": [
    "Regarding weather condition, there are outliers in the bike demand when \"weathersit\" = 1 (clear), 2 (mist), and 3 (light rain/snow)"
   ]
  },
  {
   "cell_type": "code",
   "execution_count": 14,
   "metadata": {
    "scrolled": false
   },
   "outputs": [
    {
     "data": {
      "image/png": "[encoded data removed]",
      "text/plain": [
       "<matplotlib.figure.Figure at 0x117dd40d0>"
      ]
     },
     "metadata": {},
     "output_type": "display_data"
    }
   ],
   "source": [
    "cat_boxplot(X_train, response[0], 'weathersit')"
   ]
  },
  {
   "cell_type": "markdown",
   "metadata": {},
   "source": [
    "### 1.4 Correlation Analysis\n",
    "\n",
    "In this section, we take a look at the correlation between candidate response variables and the rest features."
   ]
  },
  {
   "cell_type": "code",
   "execution_count": 15,
   "metadata": {
    "collapsed": true
   },
   "outputs": [],
   "source": [
    "def corr_mat_heatmap(df):\n",
    "    \"\"\"\n",
    "    df: pandas dataframe\n",
    "\n",
    "    this function plots a correlation matrix heatmap based on the input dataframe\n",
    "    \"\"\"\n",
    "    corr_matrix = df.corr()\n",
    "    \n",
    "    sns.set(style='white', font_scale=1.4)\n",
    "    f, ax = plt.subplots(figsize=(14, 9))\n",
    "    \n",
    "    # Create a mask for the upper triangle\n",
    "    mask = np.zeros_like(corr_matrix, dtype=np.bool)\n",
    "    mask[np.triu_indices_from(mask)] = True\n",
    "\n",
    "    cmap = sns.diverging_palette(300, 50, as_cmap=True)\n",
    "    sns.heatmap(corr_matrix, cmap=cmap, mask=mask, annot=True, annot_kws={'size': 12})  \n",
    "    ax.set_title('Correlation Matrix Heatmap')"
   ]
  },
  {
   "cell_type": "markdown",
   "metadata": {},
   "source": [
    "From the heatmap below we discover that: \n",
    "1. \"temp\", \"atemp\", and \"hum\" are the top 3 features correlated with candidate response variables\n",
    "2. \"atemp\" has a 0.99 correlation with \"temp\" which suggest that we should only use one of them in the model\n",
    "3. \"congeniality\" is highly correlated with \"temp\", \"atemp\", and \"hum\". This feature probably indicates weather-wise how comfortable a given day is\n",
    "4. \"wobbliness\" has almost no correlation with other features and response variables. Also, we have looked at its histogram earlier on, there is no pattern of it. So it's probabaly not going to be predictive of bikeshare count."
   ]
  },
  {
   "cell_type": "code",
   "execution_count": 16,
   "metadata": {
    "scrolled": true
   },
   "outputs": [
    {
     "data": {
      "image/png": "[encoded data removed]",
      "text/plain": [
       "<matplotlib.figure.Figure at 0x117de5c50>"
      ]
     },
     "metadata": {},
     "output_type": "display_data"
    }
   ],
   "source": [
    "corr_mat_heatmap(data[response + num_features])"
   ]
  },
  {
   "cell_type": "markdown",
   "metadata": {},
   "source": [
    "## 2. Feature Engineering and Modeling\n",
    "\n",
    "In this part:\n",
    "1. We will start off with some data preprocessing work\n",
    "2. Then we will build our first model and analyze which features are most/least important\n",
    "3. Finally we will perform some feature engineering and run our final model\n",
    "\n",
    "Regarding the algorithms to use, we will compare the performance of linear regression, random forest, XGBoost, extra tress, and gradient boosting. Then we will select the best algorithm for the rest modeling process.\n",
    "\n",
    "### 2.1 Data Preprocessing\n",
    "\n",
    "#### 2.11 Missing Value Imputation\n",
    "\n",
    "Regarding numerical features, we will impute missing values with column median. This proves to be a robust method. Other alternatives include KNN, regression imputation, and column mean. Note what we will use the training set column medians to fill the empty cells in the test set.\n",
    "\n",
    "Regarding categorical features such as hour, holiday, and weekday, we will use \"missing\" to fill the missing values.\n",
    "\n",
    "As for features to remove:\n",
    "1. Since \"congeniality\" is highly correlated with \"hum\" and \"atemp\", therefore we will not use it. Also, \"wobbliness\" is removed\n",
    "2. Intuitively speaking, feeling temperature is more relevant to us human than actual temperature. So I choose to use \"atemp\" in the model\n",
    "3. \"working day\" and \"holiday\" are similary, I decided to only keep \"workingday\""
   ]
  },
  {
   "cell_type": "code",
   "execution_count": 17,
   "metadata": {},
   "outputs": [],
   "source": [
    "# drop features we don't need\n",
    "X_train = X_train.drop(['temp', 'congeniality', 'wobbliness', 'holiday'], axis=1)\n",
    "X_test = X_test.drop(['temp', 'congeniality', 'wobbliness', 'holiday'], axis=1)"
   ]
  },
  {
   "cell_type": "code",
   "execution_count": 18,
   "metadata": {
    "collapsed": true,
    "scrolled": false
   },
   "outputs": [],
   "source": [
    "cat_features = ['season', 'yr', 'mnth', 'hr', 'workingday', 'weekday', 'weathersit']\n",
    "num_features = ['atemp', 'hum', 'windspeed']\n",
    "\n",
    "# use Imputer from Scikit learn to impute numerical features\n",
    "imputer = Imputer(strategy=\"median\")\n",
    "X_train_impute = pd.DataFrame(imputer.fit_transform(X_train[num_features]), columns=num_features)\n",
    "X_train[num_features] = X_train_impute.values\n",
    "\n",
    "X_test_impute = pd.DataFrame(imputer.transform(X_test[num_features]), columns=num_features)\n",
    "X_test[num_features] = X_test_impute.values"
   ]
  },
  {
   "cell_type": "markdown",
   "metadata": {},
   "source": [
    "#### 2.12 Create Dummy Variables"
   ]
  },
  {
   "cell_type": "code",
   "execution_count": 19,
   "metadata": {},
   "outputs": [],
   "source": [
    "# impute categorical features and turn them into dummy variables\n",
    "X_train[cat_features] = X_train[cat_features].fillna(value='missing')\n",
    "X_train_prepared = pd.get_dummies(X_train, prefix_sep='_', columns=cat_features)\n",
    "\n",
    "X_test[cat_features] = X_test[cat_features].fillna(value=0)\n",
    "X_test_prepared = pd.get_dummies(X_test, prefix_sep='_', columns=cat_features)\n",
    "\n",
    "# prepare the response variable and training/test set\n",
    "y_train_casual = X_train_prepared[response[1]]\n",
    "y_train_registered = X_train_prepared[response[2]]\n",
    "X_train_prepared = X_train_prepared.drop(response, axis=1)\n",
    "\n",
    "y_test_casual = X_test_prepared[response[1]]\n",
    "y_test_registered = X_test_prepared[response[2]]\n",
    "X_test_prepared = X_test_prepared.drop(response, axis=1)"
   ]
  },
  {
   "cell_type": "markdown",
   "metadata": {},
   "source": [
    "### 2.2 Baseline Model\n",
    "\n",
    "We will build two models, one with response variable \"casual\", the other with \"registered\". It might be luring to use \"cnt\" as the reponse variable. However, as we discovered in the boxplot the distribution of \"casual\" and \"registered\" across hours look quite different, which suggests separate models are needed. Also, we can alway sum up the predictions from each model to get the total count.\n",
    "\n",
    "To evaluate the models we will use RMSE (root mean square error), it's defined as $\\sqrt{(y_{response} - y_{predict})^2}$.\n",
    "\n",
    "Alternatively, we can use MAE (mean absolute error) to evaluate a regression model. MAE is less affected by outliers, however, for the bikeshare data we do want to check if the outliers in the response variable affects our model performance, so we will stick to RMSE for the rest modeling process."
   ]
  },
  {
   "cell_type": "code",
   "execution_count": 20,
   "metadata": {
    "collapsed": true
   },
   "outputs": [],
   "source": [
    "def train_model(data, label, algo):\n",
    "    \"\"\"\n",
    "    data: training data\n",
    "    label: response variable\n",
    "    \n",
    "    return: fitted model and Root Mean Square Error\n",
    "    \"\"\"\n",
    "    model = algo.fit(data, label)\n",
    "    return model\n",
    "\n",
    "\n",
    "def cross_validation_rmse(model, data, label, cv=5):\n",
    "    \"\"\"\n",
    "    data: training data\n",
    "    label: response variable\n",
    "    \n",
    "    this function performs a 10-fold cross validation and prints out the RMSE scores\n",
    "    \"\"\"\n",
    "    scores = cross_val_score(model, data, label, scoring=\"neg_mean_squared_error\", cv=5)\n",
    "    rmse_scores = np.sqrt(-scores)\n",
    "\n",
    "    print('Mean of RMSE from 5-fold cross validation:', rmse_scores.mean())\n",
    "    print('RMSE Standard deviation:', rmse_scores.std())\n",
    "    print ''"
   ]
  },
  {
   "cell_type": "markdown",
   "metadata": {},
   "source": [
    "Let's train the model and use 5-fold cross validation to compare model performance.\n",
    "\n",
    "When \"casual\" is the response variable:"
   ]
  },
  {
   "cell_type": "code",
   "execution_count": 21,
   "metadata": {
    "scrolled": true
   },
   "outputs": [
    {
     "name": "stdout",
     "output_type": "stream",
     "text": [
      "('Mean of RMSE from 5-fold cross validation:', 31.677378294454769)\n",
      "('RMSE Standard deviation:', 1.4875589849817534)\n",
      "\n",
      "('Mean of RMSE from 5-fold cross validation:', 21.517422164585177)\n",
      "('RMSE Standard deviation:', 0.98140086315711028)\n",
      "\n",
      "('Mean of RMSE from 5-fold cross validation:', 19.75677956870382)\n",
      "('RMSE Standard deviation:', 0.96754052872749474)\n",
      "\n",
      "('Mean of RMSE from 5-fold cross validation:', 24.800802102750549)\n",
      "('RMSE Standard deviation:', 0.95582655242272829)\n",
      "\n",
      "('Mean of RMSE from 5-fold cross validation:', 24.840092695730736)\n",
      "('RMSE Standard deviation:', 0.97883806700293918)\n",
      "\n"
     ]
    }
   ],
   "source": [
    "algos = [LinearRegression(), RandomForestRegressor(random_state=0),\n",
    "         ExtraTreesRegressor(random_state=0), GradientBoostingRegressor(random_state=0),\n",
    "         XGBRegressor()]\n",
    "\n",
    "for algo in algos:\n",
    "    model = train_model(X_train_prepared.values, y_train_casual, algo)\n",
    "    cross_validation_rmse(model, X_train_prepared.values, y_train_casual)"
   ]
  },
  {
   "cell_type": "markdown",
   "metadata": {},
   "source": [
    "When \"registered\" is the response variable:"
   ]
  },
  {
   "cell_type": "code",
   "execution_count": 22,
   "metadata": {},
   "outputs": [
    {
     "name": "stdout",
     "output_type": "stream",
     "text": [
      "('Mean of RMSE from 5-fold cross validation:', 86.430226667170047)\n",
      "('RMSE Standard deviation:', 1.7621771380428146)\n",
      "\n",
      "('Mean of RMSE from 5-fold cross validation:', 43.459345650025092)\n",
      "('RMSE Standard deviation:', 0.84831530755078421)\n",
      "\n",
      "('Mean of RMSE from 5-fold cross validation:', 43.420432151650417)\n",
      "('RMSE Standard deviation:', 0.56634397708902262)\n",
      "\n",
      "('Mean of RMSE from 5-fold cross validation:', 64.288976657772395)\n",
      "('RMSE Standard deviation:', 1.2728683761132054)\n",
      "\n",
      "('Mean of RMSE from 5-fold cross validation:', 64.81015207272948)\n",
      "('RMSE Standard deviation:', 1.7482070450723224)\n",
      "\n"
     ]
    }
   ],
   "source": [
    "for algo in algos:\n",
    "    model = train_model(X_train_prepared.values, y_train_registered, algo)\n",
    "    cross_validation_rmse(model, X_train_prepared.values, y_train_registered)"
   ]
  },
  {
   "cell_type": "markdown",
   "metadata": {},
   "source": [
    "**Summary: ** we conclude that ExtraTressRegressor has the best performance whether the reponse is \"casual\" or \"registered\". The RMSE is 19.76 for \"casual\" and 43.42 for \"registered\". Therefore, we will use ExtraTressRegressor for the rest modeling process."
   ]
  },
  {
   "cell_type": "markdown",
   "metadata": {},
   "source": [
    "### 2.3 Feature Engineering\n",
    "\n",
    "In this section, I propose three new features:\n",
    "1. **hour_category**: based on the boxplot of user count vs hour, we can group hour into several categories. However, this feature doesn't improve the model performance much, so I didn't include it in the final model\n",
    "2. **average_casual**: this is the average count of bike riders grouped by \"month\", \"weekday\" and \"hour\". This feature will be used only when \"casual\" is the response variable\n",
    "3. **average_registered**: similar to \"average_casual\". This feature will be used only when \"registered\" is the response variable\n",
    "\n",
    "#### 2.31 Hour Category"
   ]
  },
  {
   "cell_type": "code",
   "execution_count": 23,
   "metadata": {
    "collapsed": true
   },
   "outputs": [],
   "source": [
    "# this is how we can create the hour_category feature, since this feature doesn't \n",
    "# improve model performance much, I didn't include the result here\n",
    "def hour_category(value):\n",
    "    if value in range(1, 7):\n",
    "        return '0-6AM'\n",
    "    elif value in range(7, 9):\n",
    "        return '7-8AM'\n",
    "    elif value in range(9, 16):\n",
    "        return '9AM-15PM'\n",
    "    elif value in range(16, 20):\n",
    "        return '16-19PM'\n",
    "    else:\n",
    "        return '20-23PM'\n",
    "\n",
    "# X_train['hour_cat'] = X_train['hr'].apply(hour_category)\n",
    "# X_test['hour_cat'] = X_test['hr'].apply(hour_category)"
   ]
  },
  {
   "cell_type": "markdown",
   "metadata": {},
   "source": [
    "#### 2.32 Average Count of Casual Users and Registered Users\n",
    "\n",
    "The \"average_count\" features can be useful because they reflect the average demand for a given hour at a given month/day."
   ]
  },
  {
   "cell_type": "code",
   "execution_count": 24,
   "metadata": {
    "collapsed": true
   },
   "outputs": [],
   "source": [
    "avg_casual = pd.DataFrame(X_train.groupby(['yr', 'weekday', 'hr'])['casual'].mean()).reset_index()\n",
    "avg_casual.columns = ['yr', 'weekday', 'hr', 'avg_casual']\n",
    "avg_registered = pd.DataFrame(X_train.groupby(['yr', 'weekday', 'hr'])['registered'].mean()).reset_index()\n",
    "avg_registered.columns = ['yr', 'weekday', 'hr', 'avg_registered']\n",
    "\n",
    "# merge new features to the training/test set\n",
    "X_train = X_train.merge(avg_casual, on=['yr', 'weekday', 'hr'])\n",
    "X_train = X_train.merge(avg_registered, on=['yr', 'weekday', 'hr'])\n",
    "\n",
    "X_test = X_test.merge(avg_casual, on=['yr', 'weekday', 'hr'])\n",
    "X_test = X_test.merge(avg_registered, on=['yr', 'weekday', 'hr'])"
   ]
  },
  {
   "cell_type": "markdown",
   "metadata": {},
   "source": [
    "The code below is a bit repetitive because new features are calcuated based on the original features including \"month\", \"weekday\", and \"hour\". We can only join the new features to the original dataset and then turn categorical features into dummy variables. Ideally, we can use Scikit-learn's Pipeline to automate the whole process, but due to time constrain I didn't do it here. "
   ]
  },
  {
   "cell_type": "code",
   "execution_count": 25,
   "metadata": {},
   "outputs": [],
   "source": [
    "# impute categorical features\n",
    "X_train[cat_features] = X_train[cat_features].fillna(value='missing')\n",
    "X_train_prepared = pd.get_dummies(X_train, prefix_sep='_', columns=cat_features).drop(response, axis=1)\n",
    "\n",
    "X_test[cat_features] = X_test[cat_features].fillna(value=0)\n",
    "X_test_prepared = pd.get_dummies(X_test, prefix_sep='_', columns=cat_features).drop(response, axis=1)\n",
    "\n",
    "y_train_casual = X_train[response[1]]\n",
    "y_train_registered = X_train[response[2]]\n",
    "\n",
    "y_test_casual = X_test[response[1]]\n",
    "y_test_registered = X_test[response[2]]"
   ]
  },
  {
   "cell_type": "markdown",
   "metadata": {},
   "source": [
    "When there are dummy features in the training but not in the test set, append a all-zero column to account for the absent column."
   ]
  },
  {
   "cell_type": "code",
   "execution_count": 26,
   "metadata": {
    "collapsed": true
   },
   "outputs": [],
   "source": [
    "extra_columns = set(X_train_prepared.columns).difference(set(X_test_prepared.columns))\n",
    "for col in extra_columns:\n",
    "    X_test_prepared[col] = 0"
   ]
  },
  {
   "cell_type": "markdown",
   "metadata": {},
   "source": [
    "### 2.4 Improved Models\n",
    "\n",
    "After feature engineering, we will build two models, one for \"causal\", the other for \"registered\""
   ]
  },
  {
   "cell_type": "code",
   "execution_count": 27,
   "metadata": {
    "collapsed": true
   },
   "outputs": [],
   "source": [
    "X_train_casual = X_train_prepared.drop(['avg_registered'], axis=1)\n",
    "X_test_casual = X_test_prepared.drop(['avg_registered'], axis=1)\n",
    "\n",
    "X_train_registered = X_train_prepared.drop(['avg_casual'], axis=1)\n",
    "X_test_registered = X_test_prepared.drop(['avg_casual'], axis=1)"
   ]
  },
  {
   "cell_type": "markdown",
   "metadata": {},
   "source": [
    "Cross validation of model for \"casual\". The RMSE dropped from  19.76 (baseline) to 16.16."
   ]
  },
  {
   "cell_type": "code",
   "execution_count": 28,
   "metadata": {},
   "outputs": [
    {
     "name": "stdout",
     "output_type": "stream",
     "text": [
      "('Mean of RMSE from 5-fold cross validation:', 16.161858480046881)\n",
      "('RMSE Standard deviation:', 0.62957435179530241)\n",
      "\n"
     ]
    }
   ],
   "source": [
    "extra_reg_casual = train_model(X_train_casual.values,  y_train_casual,\\\n",
    "                        ExtraTreesRegressor(random_state=0))\n",
    "cross_validation_rmse(extra_reg_casual, \\\n",
    "                      X_train_casual.values, y_train_casual)"
   ]
  },
  {
   "cell_type": "markdown",
   "metadata": {},
   "source": [
    "Cross validation of model for \"registered\". The RMSE dropped from 43.42 (baseline) to 39.27."
   ]
  },
  {
   "cell_type": "code",
   "execution_count": 29,
   "metadata": {},
   "outputs": [
    {
     "name": "stdout",
     "output_type": "stream",
     "text": [
      "('Mean of RMSE from 5-fold cross validation:', 39.276176766651488)\n",
      "('RMSE Standard deviation:', 2.1318078383682648)\n",
      "\n"
     ]
    }
   ],
   "source": [
    "extra_reg_registered = train_model(X_train_registered.values,  y_train_registered,\\\n",
    "                        ExtraTreesRegressor(random_state=0))\n",
    "cross_validation_rmse(extra_reg_registered, \\\n",
    "                      X_train_registered.values, y_train_registered)"
   ]
  },
  {
   "cell_type": "markdown",
   "metadata": {},
   "source": [
    "### 2.5 Feature Importance Analysis\n",
    "\n",
    "For this part, I presented the feature importance analysis when the response variable is \"casual\". The analysis for \"registered\" is similar. But we will still build two final models based on the feature importance."
   ]
  },
  {
   "cell_type": "code",
   "execution_count": 31,
   "metadata": {},
   "outputs": [
    {
     "name": "stdout",
     "output_type": "stream",
     "text": [
      "number of features in the model: 60\n"
     ]
    }
   ],
   "source": [
    "extra_casual_importance = extra_reg_casual.feature_importances_\n",
    "print \"number of features in the model: \" + str(len(extra_casual_importance))\n",
    "importance_df = pd.DataFrame({'feature_name': X_train_casual.columns.values, \n",
    "                              'feature_importance': extra_casual_importance})"
   ]
  },
  {
   "cell_type": "markdown",
   "metadata": {},
   "source": [
    "Regarding the feature importance the \"casual\" model, we can see that the new feature \"avg_casual\" is the most important. Next to it is \"atemp\", \"season_1\", and \"hum\"."
   ]
  },
  {
   "cell_type": "code",
   "execution_count": 32,
   "metadata": {},
   "outputs": [
    {
     "data": {
      "text/html": [
       "<div>\n",
       "<style>\n",
       "    .dataframe thead tr:only-child th {\n",
       "        text-align: right;\n",
       "    }\n",
       "\n",
       "    .dataframe thead th {\n",
       "        text-align: left;\n",
       "    }\n",
       "\n",
       "    .dataframe tbody tr th {\n",
       "        vertical-align: top;\n",
       "    }\n",
       "</style>\n",
       "<table border=\"1\" class=\"dataframe\">\n",
       "  <thead>\n",
       "    <tr style=\"text-align: right;\">\n",
       "      <th></th>\n",
       "      <th>feature_importance</th>\n",
       "      <th>feature_name</th>\n",
       "    </tr>\n",
       "  </thead>\n",
       "  <tbody>\n",
       "    <tr>\n",
       "      <th>3</th>\n",
       "      <td>0.563741</td>\n",
       "      <td>avg_casual</td>\n",
       "    </tr>\n",
       "    <tr>\n",
       "      <th>0</th>\n",
       "      <td>0.144587</td>\n",
       "      <td>atemp</td>\n",
       "    </tr>\n",
       "    <tr>\n",
       "      <th>4</th>\n",
       "      <td>0.077877</td>\n",
       "      <td>season_1</td>\n",
       "    </tr>\n",
       "    <tr>\n",
       "      <th>47</th>\n",
       "      <td>0.020183</td>\n",
       "      <td>workingday_1</td>\n",
       "    </tr>\n",
       "    <tr>\n",
       "      <th>1</th>\n",
       "      <td>0.019056</td>\n",
       "      <td>hum</td>\n",
       "    </tr>\n",
       "  </tbody>\n",
       "</table>\n",
       "</div>"
      ],
      "text/plain": [
       "    feature_importance  feature_name\n",
       "3             0.563741    avg_casual\n",
       "0             0.144587         atemp\n",
       "4             0.077877      season_1\n",
       "47            0.020183  workingday_1\n",
       "1             0.019056           hum"
      ]
     },
     "execution_count": 32,
     "metadata": {},
     "output_type": "execute_result"
    }
   ],
   "source": [
    "importance_df.sort_values('feature_importance', ascending=False).head()"
   ]
  },
  {
   "cell_type": "markdown",
   "metadata": {},
   "source": [
    "Regarding least important featues, we have \"weathersit_4.0\" being the least important. Indeed, the \"weathersit\" feature in the test set doesn't have this attribute, so we appended an all-zero column.\n",
    "\n",
    "Next to \"weathersit_4.0\" is \"hr_4\", \"hr_5\", and \"hr_6\". Probably because the number of samples falling into these three categories is so small that these features are not predictive."
   ]
  },
  {
   "cell_type": "code",
   "execution_count": 33,
   "metadata": {},
   "outputs": [
    {
     "data": {
      "text/html": [
       "<div>\n",
       "<style>\n",
       "    .dataframe thead tr:only-child th {\n",
       "        text-align: right;\n",
       "    }\n",
       "\n",
       "    .dataframe thead th {\n",
       "        text-align: left;\n",
       "    }\n",
       "\n",
       "    .dataframe tbody tr th {\n",
       "        vertical-align: top;\n",
       "    }\n",
       "</style>\n",
       "<table border=\"1\" class=\"dataframe\">\n",
       "  <thead>\n",
       "    <tr style=\"text-align: right;\">\n",
       "      <th></th>\n",
       "      <th>feature_importance</th>\n",
       "      <th>feature_name</th>\n",
       "    </tr>\n",
       "  </thead>\n",
       "  <tbody>\n",
       "    <tr>\n",
       "      <th>58</th>\n",
       "      <td>1.225561e-07</td>\n",
       "      <td>weathersit_4.0</td>\n",
       "    </tr>\n",
       "    <tr>\n",
       "      <th>26</th>\n",
       "      <td>3.777973e-06</td>\n",
       "      <td>hr_4</td>\n",
       "    </tr>\n",
       "    <tr>\n",
       "      <th>27</th>\n",
       "      <td>6.118220e-06</td>\n",
       "      <td>hr_5</td>\n",
       "    </tr>\n",
       "    <tr>\n",
       "      <th>28</th>\n",
       "      <td>1.613322e-05</td>\n",
       "      <td>hr_6</td>\n",
       "    </tr>\n",
       "    <tr>\n",
       "      <th>25</th>\n",
       "      <td>1.739821e-05</td>\n",
       "      <td>hr_3</td>\n",
       "    </tr>\n",
       "  </tbody>\n",
       "</table>\n",
       "</div>"
      ],
      "text/plain": [
       "    feature_importance    feature_name\n",
       "58        1.225561e-07  weathersit_4.0\n",
       "26        3.777973e-06            hr_4\n",
       "27        6.118220e-06            hr_5\n",
       "28        1.613322e-05            hr_6\n",
       "25        1.739821e-05            hr_3"
      ]
     },
     "execution_count": 33,
     "metadata": {},
     "output_type": "execute_result"
    }
   ],
   "source": [
    "importance_df.sort_values('feature_importance').head()"
   ]
  },
  {
   "cell_type": "markdown",
   "metadata": {},
   "source": [
    "We can further visualize the feature importance score of the top 15 most important features. It seems that \"season\", \"month\", and \"working day\" have a impact on the bike demand."
   ]
  },
  {
   "cell_type": "code",
   "execution_count": 34,
   "metadata": {
    "collapsed": true
   },
   "outputs": [],
   "source": [
    "def feature_importance_plot(df, top_n):\n",
    "    \"\"\"\n",
    "    importance_list: a list of feature importance\n",
    "    col_list: a list of column names matching the importance list\n",
    "    \n",
    "    this functions draw a plot of feature importance\n",
    "    \"\"\"\n",
    "    important_df = df.sort_values('feature_importance', ascending=False)[:top_n]\n",
    "    sns.barplot(x='feature_importance', y='feature_name', data=important_df, color=\"b\")"
   ]
  },
  {
   "cell_type": "code",
   "execution_count": 35,
   "metadata": {
    "scrolled": true
   },
   "outputs": [
    {
     "data": {
      "image/png": "[encoded data removed]",
      "text/plain": [
       "<matplotlib.figure.Figure at 0x11763d910>"
      ]
     },
     "metadata": {},
     "output_type": "display_data"
    }
   ],
   "source": [
    "feature_importance_plot(importance_df, top_n=15)"
   ]
  },
  {
   "cell_type": "markdown",
   "metadata": {},
   "source": [
    "### 2.6 Final Model and Prediction\n",
    "\n",
    "Since we can extract feature importance, why not only use the top n (e.g. 50) important features to train a new model. It helps remove noisy features especially especially when we have hundreds of features. This method is more efficient than other dimension reduction algorithms, e.g. PCA."
   ]
  },
  {
   "cell_type": "code",
   "execution_count": 36,
   "metadata": {
    "collapsed": true
   },
   "outputs": [],
   "source": [
    "def indices_of_top_k(arr, k):\n",
    "    \"\"\"\n",
    "    this function is used with TopFeatureSelector\n",
    "    \"\"\"\n",
    "    return np.sort(np.argpartition(np.array(arr), -k)[-k:])\n",
    "\n",
    "\n",
    "class TopFeatureSelector(BaseEstimator, TransformerMixin):\n",
    "    \"\"\"\n",
    "    this class allows for selecting features based on feature importance\n",
    "    \"\"\"\n",
    "    def __init__(self, feature_importances, k):\n",
    "        self.feature_importances = feature_importances\n",
    "        self.k = k\n",
    "    def fit(self, X, y=None):\n",
    "        self.feature_indices_ = indices_of_top_k(self.feature_importances, self.k)\n",
    "        return self\n",
    "    def transform(self, X):\n",
    "        return X[:, self.feature_indices_]"
   ]
  },
  {
   "cell_type": "markdown",
   "metadata": {},
   "source": [
    "#### 2.61 Final Model\n",
    "Finally, we will use our final model to predict on the test set. Below is the model for \"casual\"."
   ]
  },
  {
   "cell_type": "code",
   "execution_count": 37,
   "metadata": {
    "scrolled": true
   },
   "outputs": [
    {
     "name": "stdout",
     "output_type": "stream",
     "text": [
      "Extra trees with most important features RMSE: \n",
      "('Mean of RMSE from 5-fold cross validation:', 15.925116277476594)\n",
      "('RMSE Standard deviation:', 0.77265137087036229)\n",
      "\n"
     ]
    }
   ],
   "source": [
    "extra_casual_importance = extra_reg_casual.feature_importances_\n",
    "top_casual = TopFeatureSelector(extra_casual_importance, 50)\n",
    "X_train_casual_final = top_casual.fit_transform(X_train_casual.values)\n",
    "extra_casual_reg = train_model(X_train_casual_final, y_train_casual, \\\n",
    "                        ExtraTreesRegressor(random_state=0))\n",
    "\n",
    "print \"Extra trees with most important features RMSE: \"\n",
    "cross_validation_rmse(extra_casual_reg, X_train_casual_final, y_train_casual)"
   ]
  },
  {
   "cell_type": "markdown",
   "metadata": {},
   "source": [
    "Below is the model for \"registered\". Note that the RMSE using only the top 50 important features is bit higher than using all features. When the performance doesn' decrease much, we can still remove some features to avoid overfitting."
   ]
  },
  {
   "cell_type": "code",
   "execution_count": 39,
   "metadata": {},
   "outputs": [
    {
     "name": "stdout",
     "output_type": "stream",
     "text": [
      "Extra trees with most important features RMSE: \n",
      "('Mean of RMSE from 5-fold cross validation:', 40.229267726624755)\n",
      "('RMSE Standard deviation:', 2.6885664944484988)\n",
      "\n"
     ]
    }
   ],
   "source": [
    "extra_registered_feature = extra_reg_registered.feature_importances_\n",
    "top_registered = TopFeatureSelector(extra_registered_feature, 50)\n",
    "X_train_registered_final = top_registered.fit_transform(X_train_registered.values)\n",
    "extra_registered_reg = train_model(X_train_registered_final, y_train_registered, \\\n",
    "                        ExtraTreesRegressor(random_state=0))\n",
    "\n",
    "print \"Extra trees with most important features RMSE: \"\n",
    "cross_validation_rmse(extra_registered_reg, X_train_registered_final, y_train_registered)"
   ]
  },
  {
   "cell_type": "markdown",
   "metadata": {},
   "source": [
    "#### 2.62 Make and Save Predictions\n",
    "\n",
    "For \"casual\", the test RMSE is only 3 points higher than that of the training set. We didn't overfit the model"
   ]
  },
  {
   "cell_type": "code",
   "execution_count": 40,
   "metadata": {},
   "outputs": [
    {
     "name": "stdout",
     "output_type": "stream",
     "text": [
      "RMSE on test set is: 18.169359392\n"
     ]
    },
    {
     "data": {
      "text/html": [
       "<div>\n",
       "<style>\n",
       "    .dataframe thead tr:only-child th {\n",
       "        text-align: right;\n",
       "    }\n",
       "\n",
       "    .dataframe thead th {\n",
       "        text-align: left;\n",
       "    }\n",
       "\n",
       "    .dataframe tbody tr th {\n",
       "        vertical-align: top;\n",
       "    }\n",
       "</style>\n",
       "<table border=\"1\" class=\"dataframe\">\n",
       "  <thead>\n",
       "    <tr style=\"text-align: right;\">\n",
       "      <th></th>\n",
       "      <th>casual_prediction</th>\n",
       "      <th>casual_real</th>\n",
       "    </tr>\n",
       "  </thead>\n",
       "  <tbody>\n",
       "    <tr>\n",
       "      <th>0</th>\n",
       "      <td>70.3</td>\n",
       "      <td>64</td>\n",
       "    </tr>\n",
       "    <tr>\n",
       "      <th>1</th>\n",
       "      <td>94.2</td>\n",
       "      <td>93</td>\n",
       "    </tr>\n",
       "    <tr>\n",
       "      <th>2</th>\n",
       "      <td>84.4</td>\n",
       "      <td>100</td>\n",
       "    </tr>\n",
       "    <tr>\n",
       "      <th>3</th>\n",
       "      <td>21.8</td>\n",
       "      <td>20</td>\n",
       "    </tr>\n",
       "    <tr>\n",
       "      <th>4</th>\n",
       "      <td>55.0</td>\n",
       "      <td>77</td>\n",
       "    </tr>\n",
       "    <tr>\n",
       "      <th>5</th>\n",
       "      <td>91.3</td>\n",
       "      <td>99</td>\n",
       "    </tr>\n",
       "    <tr>\n",
       "      <th>6</th>\n",
       "      <td>15.9</td>\n",
       "      <td>9</td>\n",
       "    </tr>\n",
       "    <tr>\n",
       "      <th>7</th>\n",
       "      <td>79.8</td>\n",
       "      <td>78</td>\n",
       "    </tr>\n",
       "    <tr>\n",
       "      <th>8</th>\n",
       "      <td>96.1</td>\n",
       "      <td>108</td>\n",
       "    </tr>\n",
       "    <tr>\n",
       "      <th>9</th>\n",
       "      <td>82.6</td>\n",
       "      <td>107</td>\n",
       "    </tr>\n",
       "  </tbody>\n",
       "</table>\n",
       "</div>"
      ],
      "text/plain": [
       "   casual_prediction  casual_real\n",
       "0               70.3           64\n",
       "1               94.2           93\n",
       "2               84.4          100\n",
       "3               21.8           20\n",
       "4               55.0           77\n",
       "5               91.3           99\n",
       "6               15.9            9\n",
       "7               79.8           78\n",
       "8               96.1          108\n",
       "9               82.6          107"
      ]
     },
     "execution_count": 40,
     "metadata": {},
     "output_type": "execute_result"
    }
   ],
   "source": [
    "X_test_casual_final = top_casual.transform(X_test_casual.values)\n",
    "y_casual_pred = extra_casual_reg.predict(X_test_casual_final)\n",
    "print 'RMSE on test set is: ' + str(np.sqrt(mean_squared_error(y_test_casual, y_casual_pred)))\n",
    "predict_casual_df = pd.DataFrame({'casual_real':y_test_casual, 'casual_prediction':y_casual_pred})\n",
    "predict_casual_df.to_csv('bikeshare_casual_prediction.csv', index=None)\n",
    "predict_casual_df.head(10)"
   ]
  },
  {
   "cell_type": "markdown",
   "metadata": {},
   "source": [
    "For \"casual\", the test RMSE is 52.27 - 10 points higher than that of the training set."
   ]
  },
  {
   "cell_type": "code",
   "execution_count": 41,
   "metadata": {},
   "outputs": [
    {
     "name": "stdout",
     "output_type": "stream",
     "text": [
      "RMSE on test set is: 52.2728609516\n"
     ]
    },
    {
     "data": {
      "text/html": [
       "<div>\n",
       "<style>\n",
       "    .dataframe thead tr:only-child th {\n",
       "        text-align: right;\n",
       "    }\n",
       "\n",
       "    .dataframe thead th {\n",
       "        text-align: left;\n",
       "    }\n",
       "\n",
       "    .dataframe tbody tr th {\n",
       "        vertical-align: top;\n",
       "    }\n",
       "</style>\n",
       "<table border=\"1\" class=\"dataframe\">\n",
       "  <thead>\n",
       "    <tr style=\"text-align: right;\">\n",
       "      <th></th>\n",
       "      <th>registered_prediction</th>\n",
       "      <th>registered_real</th>\n",
       "    </tr>\n",
       "  </thead>\n",
       "  <tbody>\n",
       "    <tr>\n",
       "      <th>0</th>\n",
       "      <td>611.4</td>\n",
       "      <td>642</td>\n",
       "    </tr>\n",
       "    <tr>\n",
       "      <th>1</th>\n",
       "      <td>569.4</td>\n",
       "      <td>684</td>\n",
       "    </tr>\n",
       "    <tr>\n",
       "      <th>2</th>\n",
       "      <td>625.2</td>\n",
       "      <td>597</td>\n",
       "    </tr>\n",
       "    <tr>\n",
       "      <th>3</th>\n",
       "      <td>556.9</td>\n",
       "      <td>446</td>\n",
       "    </tr>\n",
       "    <tr>\n",
       "      <th>4</th>\n",
       "      <td>701.5</td>\n",
       "      <td>822</td>\n",
       "    </tr>\n",
       "    <tr>\n",
       "      <th>5</th>\n",
       "      <td>621.4</td>\n",
       "      <td>677</td>\n",
       "    </tr>\n",
       "    <tr>\n",
       "      <th>6</th>\n",
       "      <td>367.7</td>\n",
       "      <td>374</td>\n",
       "    </tr>\n",
       "    <tr>\n",
       "      <th>7</th>\n",
       "      <td>579.0</td>\n",
       "      <td>562</td>\n",
       "    </tr>\n",
       "    <tr>\n",
       "      <th>8</th>\n",
       "      <td>753.2</td>\n",
       "      <td>744</td>\n",
       "    </tr>\n",
       "    <tr>\n",
       "      <th>9</th>\n",
       "      <td>665.4</td>\n",
       "      <td>716</td>\n",
       "    </tr>\n",
       "  </tbody>\n",
       "</table>\n",
       "</div>"
      ],
      "text/plain": [
       "   registered_prediction  registered_real\n",
       "0                  611.4              642\n",
       "1                  569.4              684\n",
       "2                  625.2              597\n",
       "3                  556.9              446\n",
       "4                  701.5              822\n",
       "5                  621.4              677\n",
       "6                  367.7              374\n",
       "7                  579.0              562\n",
       "8                  753.2              744\n",
       "9                  665.4              716"
      ]
     },
     "execution_count": 41,
     "metadata": {},
     "output_type": "execute_result"
    }
   ],
   "source": [
    "X_test_registered_final = top_registered.transform(X_test_registered.values)\n",
    "y_registered_pred = extra_registered_reg.predict(X_test_registered_final)\n",
    "print 'RMSE on test set is: ' + \\\n",
    "      str(np.sqrt(mean_squared_error(y_test_registered, y_registered_pred)))\n",
    "predict_registered_df = pd.DataFrame({'registered_real':y_test_registered, \\\n",
    "                                      'registered_prediction':y_registered_pred})\n",
    "predict_registered_df.to_csv('bikeshare_registered_prediction.csv', index=None)\n",
    "predict_registered_df.head(10)"
   ]
  },
  {
   "cell_type": "markdown",
   "metadata": {},
   "source": [
    "#### 2.63 Save Model\n",
    "\n",
    "Finally let's save our models for future use! :)"
   ]
  },
  {
   "cell_type": "code",
   "execution_count": 42,
   "metadata": {},
   "outputs": [
    {
     "data": {
      "text/plain": [
       "ExtraTreesRegressor(bootstrap=False, criterion='mse', max_depth=None,\n",
       "          max_features='auto', max_leaf_nodes=None,\n",
       "          min_impurity_decrease=0.0, min_impurity_split=None,\n",
       "          min_samples_leaf=1, min_samples_split=2,\n",
       "          min_weight_fraction_leaf=0.0, n_estimators=10, n_jobs=1,\n",
       "          oob_score=False, random_state=0, verbose=0, warm_start=False)"
      ]
     },
     "execution_count": 42,
     "metadata": {},
     "output_type": "execute_result"
    }
   ],
   "source": [
    "joblib.dump(extra_casual_reg, \"bikeshare_casual_model.pkl\")\n",
    "casual_model = joblib.load(\"bikeshare_casual_model.pkl\")\n",
    "casual_model"
   ]
  },
  {
   "cell_type": "code",
   "execution_count": 43,
   "metadata": {},
   "outputs": [
    {
     "data": {
      "text/plain": [
       "ExtraTreesRegressor(bootstrap=False, criterion='mse', max_depth=None,\n",
       "          max_features='auto', max_leaf_nodes=None,\n",
       "          min_impurity_decrease=0.0, min_impurity_split=None,\n",
       "          min_samples_leaf=1, min_samples_split=2,\n",
       "          min_weight_fraction_leaf=0.0, n_estimators=10, n_jobs=1,\n",
       "          oob_score=False, random_state=0, verbose=0, warm_start=False)"
      ]
     },
     "execution_count": 43,
     "metadata": {},
     "output_type": "execute_result"
    }
   ],
   "source": [
    "joblib.dump(extra_registered_reg, \"bikeshare_registered_model.pkl\")\n",
    "registered_model = joblib.load(\"bikeshare_registered_model.pkl\")\n",
    "registered_model"
   ]
  },
  {
   "cell_type": "markdown",
   "metadata": {},
   "source": [
    "## 3. Summary\n",
    "\n",
    "For this project, we have built and improved several models to predict bike demand for the Capital Bikeshare program. The model performance for \"casual\" user demand is really good given the features we have. However, the model for \"registered\" user demand can be improved by engineering more features and including external data sources, for example bike station location. The ultimate business goal can be predicting the demand by station and hour.\n",
    "\n",
    "Regarding the modeling process, I didn't include the hyperparameter tuning step because it can be time consuming, also the default parameter value is usually sufficient. In Scikit learn GridSearch and RandomSearch facilitate the tuning process. For documentation, please refer to: http://scikit-learn.org/stable/modules/classes.html#module-sklearn.model_selection"
   ]
  }
 ],
 "metadata": {
  "kernelspec": {
   "display_name": "Python 2",
   "language": "python",
   "name": "python2"
  },
  "language_info": {
   "codemirror_mode": {
    "name": "ipython",
    "version": 2
   },
   "file_extension": ".py",
   "mimetype": "text/x-python",
   "name": "python",
   "nbconvert_exporter": "python",
   "pygments_lexer": "ipython2",
   "version": "2.7.13"
  }
 },
 "nbformat": 4,
 "nbformat_minor": 2
}
